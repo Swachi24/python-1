{
 "cells": [
  {
   "cell_type": "code",
   "execution_count": 4,
   "metadata": {},
   "outputs": [
    {
     "name": "stdout",
     "output_type": "stream",
     "text": [
      "The numbers you want3\n",
      "Enter any number 5\n",
      "Enter any number 5\n",
      "Enter any number 5\n",
      "The average is:\t 1.6666666666666667\n"
     ]
    }
   ],
   "source": [
    "#find the average numbers\n",
    "num=(int(input(\"The numbers you want\")))\n",
    "total_sum=0\n",
    "for i in range(num):\n",
    "    numbers=eval(input(\"Enter any number \"))\n",
    "    total_sum+=numbers\n",
    "avg=total_sum/num\n",
    "print(\"The average is:\\t\", avg)\n"
   ]
  },
  {
   "cell_type": "code",
   "execution_count": 7,
   "metadata": {},
   "outputs": [
    {
     "name": "stdout",
     "output_type": "stream",
     "text": [
      "Enter the numbers6\n",
      "The sum is: 21.0\n"
     ]
    }
   ],
   "source": [
    "#sum of n positive numbers\n",
    "n=int(input(\"Enter the numbers\"))\n",
    "sum=(n*(n+1))/2\n",
    "print(\"The sum is:\",sum)"
   ]
  },
  {
   "cell_type": "code",
   "execution_count": 12,
   "metadata": {},
   "outputs": [
    {
     "name": "stdout",
     "output_type": "stream",
     "text": [
      "(15, 0.0)\n"
     ]
    }
   ],
   "source": [
    "#how to get time of a python programe's execution\n",
    "import time\n",
    "def myFunc():\n",
    "    start_time=time.time()\n",
    "    s=0\n",
    "    for i in range(n+1):\n",
    "        s=s+i\n",
    "    end_time=time.time()\n",
    "    return s,end_time-start_time\n",
    "n=5\n",
    "print(myFunc())\n"
   ]
  },
  {
   "cell_type": "code",
   "execution_count": 13,
   "metadata": {},
   "outputs": [
    {
     "name": "stdout",
     "output_type": "stream",
     "text": [
      "SSB\n"
     ]
    }
   ],
   "source": [
    "#to get current username\n",
    "import getpass\n",
    "print(getpass.getuser())"
   ]
  },
  {
   "cell_type": "code",
   "execution_count": 20,
   "metadata": {},
   "outputs": [
    {
     "name": "stdout",
     "output_type": "stream",
     "text": [
      "environ({'ALLUSERSPROFILE': 'C:\\\\ProgramData', 'APPDATA': 'C:\\\\Users\\\\SSB\\\\AppData\\\\Roaming', 'COMMONPROGRAMFILES': 'C:\\\\Program Files\\\\Common Files', 'COMMONPROGRAMFILES(X86)': 'C:\\\\Program Files (x86)\\\\Common Files', 'COMMONPROGRAMW6432': 'C:\\\\Program Files\\\\Common Files', 'COMPUTERNAME': 'DESKTOP-3RAJG9S', 'COMSPEC': 'C:\\\\WINDOWS\\\\system32\\\\cmd.exe', 'CONDA_DEFAULT_ENV': 'base', 'CONDA_EXE': 'C:\\\\Users\\\\SSB\\\\anaconda3\\\\Scripts\\\\conda.exe', 'CONDA_PROMPT_MODIFIER': '(base) ', 'CONDA_PYTHON_EXE': 'C:\\\\Users\\\\SSB\\\\anaconda3\\\\python.exe', 'CONDA_ROOT': 'C:\\\\Users\\\\SSB\\\\anaconda3', 'CONDA_SHLVL': '1', 'DRIVERDATA': 'C:\\\\Windows\\\\System32\\\\Drivers\\\\DriverData', 'HOMEDRIVE': 'C:', 'HOMEPATH': '\\\\Users\\\\SSB', 'JAVA_HOME': 'C:\\\\Program Files\\\\Java\\\\jdk-15.0.1', 'LOCALAPPDATA': 'C:\\\\Users\\\\SSB\\\\AppData\\\\Local', 'LOGONSERVER': '\\\\\\\\DESKTOP-3RAJG9S', 'NUMBER_OF_PROCESSORS': '4', 'ONEDRIVE': 'C:\\\\Users\\\\SSB\\\\OneDrive', 'ONEDRIVECONSUMER': 'C:\\\\Users\\\\SSB\\\\OneDrive', 'OS': 'Windows_NT', 'PATH': 'C:\\\\Users\\\\SSB\\\\anaconda3;C:\\\\Users\\\\SSB\\\\anaconda3\\\\Library\\\\mingw-w64\\\\bin;C:\\\\Users\\\\SSB\\\\anaconda3\\\\Library\\\\usr\\\\bin;C:\\\\Users\\\\SSB\\\\anaconda3\\\\Library\\\\bin;C:\\\\Users\\\\SSB\\\\anaconda3\\\\Scripts;C:\\\\Users\\\\SSB\\\\anaconda3\\\\bin;C:\\\\Users\\\\SSB\\\\anaconda3\\\\condabin;C:\\\\Users\\\\SSB\\\\anaconda3;C:\\\\Users\\\\SSB\\\\anaconda3\\\\Library\\\\mingw-w64\\\\bin;C:\\\\Users\\\\SSB\\\\anaconda3\\\\Library\\\\usr\\\\bin;C:\\\\Users\\\\SSB\\\\anaconda3\\\\Library\\\\bin;C:\\\\Users\\\\SSB\\\\anaconda3\\\\Scripts;C:\\\\Program Files\\\\Common Files\\\\Oracle\\\\Java\\\\javapath;C:\\\\oraclexe\\\\app\\\\oracle\\\\product\\\\11.2.0\\\\server\\\\bin;C:\\\\WINDOWS\\\\system32;C:\\\\WINDOWS;C:\\\\WINDOWS\\\\System32\\\\Wbem;C:\\\\WINDOWS\\\\System32\\\\WindowsPowerShell\\\\v1.0;C:\\\\WINDOWS\\\\System32\\\\OpenSSH;C:\\\\Program Files\\\\Java\\\\jdk-15.0.1\\\\bin;C:\\\\Users\\\\SSB\\\\AppData\\\\Local\\\\Microsoft\\\\WindowsApps;.;C:\\\\Users\\\\SSB\\\\AppData\\\\Local\\\\Programs\\\\Microsoft VS Code\\\\bin', 'PATHEXT': '.COM;.EXE;.BAT;.CMD;.VBS;.VBE;.JS;.JSE;.WSF;.WSH;.MSC', 'PROCESSOR_ARCHITECTURE': 'AMD64', 'PROCESSOR_IDENTIFIER': 'Intel64 Family 6 Model 55 Stepping 8, GenuineIntel', 'PROCESSOR_LEVEL': '6', 'PROCESSOR_REVISION': '3708', 'PROGRAMDATA': 'C:\\\\ProgramData', 'PROGRAMFILES': 'C:\\\\Program Files', 'PROGRAMFILES(X86)': 'C:\\\\Program Files (x86)', 'PROGRAMW6432': 'C:\\\\Program Files', 'PROMPT': '(base) $P$G', 'PSMODULEPATH': 'C:\\\\Program Files\\\\WindowsPowerShell\\\\Modules;C:\\\\WINDOWS\\\\system32\\\\WindowsPowerShell\\\\v1.0\\\\Modules', 'PUBLIC': 'C:\\\\Users\\\\Public', 'SESSIONNAME': 'Console', 'SYSTEMDRIVE': 'C:', 'SYSTEMROOT': 'C:\\\\WINDOWS', 'TEMP': 'C:\\\\Users\\\\SSB\\\\AppData\\\\Local\\\\Temp', 'TMP': 'C:\\\\Users\\\\SSB\\\\AppData\\\\Local\\\\Temp', 'USERDOMAIN': 'DESKTOP-3RAJG9S', 'USERDOMAIN_ROAMINGPROFILE': 'DESKTOP-3RAJG9S', 'USERNAME': 'SSB', 'USERPROFILE': 'C:\\\\Users\\\\SSB', 'WINDIR': 'C:\\\\WINDOWS', 'CONDA_PREFIX': 'C:\\\\Users\\\\SSB\\\\anaconda3', 'KERNEL_LAUNCH_TIMEOUT': '40', 'JPY_INTERRUPT_EVENT': '2576', 'IPY_INTERRUPT_EVENT': '2576', 'JPY_PARENT_PID': '2380', 'TERM': 'xterm-color', 'CLICOLOR': '1', 'PAGER': 'cat', 'GIT_PAGER': 'cat', 'MPLBACKEND': 'module://ipykernel.pylab.backend_inline'})\n"
     ]
    }
   ],
   "source": [
    "#to  access environment variables\n",
    "import os\n",
    "print(os.environ)"
   ]
  },
  {
   "cell_type": "code",
   "execution_count": 21,
   "metadata": {},
   "outputs": [
    {
     "name": "stdout",
     "output_type": "stream",
     "text": [
      "1 3\n",
      "         65 function calls in 0.002 seconds\n",
      "\n",
      "   Ordered by: standard name\n",
      "\n",
      "   ncalls  tottime  percall  cumtime  percall filename:lineno(function)\n",
      "        1    0.000    0.000    0.002    0.002 <ipython-input-21-b4dc38286d4a>:3(sum)\n",
      "        1    0.000    0.000    0.002    0.002 <string>:1(<module>)\n",
      "        5    0.001    0.000    0.002    0.000 iostream.py:197(schedule)\n",
      "        4    0.000    0.000    0.000    0.000 iostream.py:310(_is_master_process)\n",
      "        4    0.000    0.000    0.000    0.000 iostream.py:323(_schedule_flush)\n",
      "        4    0.000    0.000    0.002    0.001 iostream.py:386(write)\n",
      "        5    0.000    0.000    0.000    0.000 iostream.py:93(_event_pipe)\n",
      "        5    0.000    0.000    0.000    0.000 socket.py:342(send)\n",
      "        5    0.001    0.000    0.001    0.000 threading.py:1017(_wait_for_tstate_lock)\n",
      "        5    0.000    0.000    0.001    0.000 threading.py:1071(is_alive)\n",
      "        5    0.000    0.000    0.000    0.000 threading.py:513(is_set)\n",
      "        1    0.000    0.000    0.002    0.002 {built-in method builtins.exec}\n",
      "        4    0.000    0.000    0.000    0.000 {built-in method builtins.isinstance}\n",
      "        1    0.000    0.000    0.002    0.002 {built-in method builtins.print}\n",
      "        4    0.000    0.000    0.000    0.000 {built-in method nt.getpid}\n",
      "        5    0.000    0.000    0.000    0.000 {method 'acquire' of '_thread.lock' objects}\n",
      "        5    0.000    0.000    0.000    0.000 {method 'append' of 'collections.deque' objects}\n",
      "        1    0.000    0.000    0.000    0.000 {method 'disable' of '_lsprof.Profiler' objects}\n",
      "\n",
      "\n"
     ]
    }
   ],
   "source": [
    "#how to do a profile a Python project\n",
    "import cProfile\n",
    "def sum():\n",
    "    print(1,3)\n",
    "cProfile.run(\"sum()\")    "
   ]
  },
  {
   "cell_type": "code",
   "execution_count": 23,
   "metadata": {},
   "outputs": [
    {
     "name": "stdout",
     "output_type": "stream",
     "text": [
      "Python Version\n",
      "3.8.3 (default, Jul  2 2020, 17:30:36) [MSC v.1916 64 bit (AMD64)]\n",
      "sys.version_info(major=3, minor=8, micro=3, releaselevel='final', serial=0)\n"
     ]
    }
   ],
   "source": [
    "#how to know python version\n",
    "import sys\n",
    "print(\"Python Version\")\n",
    "print(sys.version)\n",
    "print(sys.version_info)\n"
   ]
  },
  {
   "cell_type": "code",
   "execution_count": 25,
   "metadata": {},
   "outputs": [
    {
     "name": "stdout",
     "output_type": "stream",
     "text": [
      "Current date and time is:\n",
      "21-06-02 00:03:13\n"
     ]
    }
   ],
   "source": [
    "#to print current date and time\n",
    "import datetime\n",
    "now=datetime.datetime.now()\n",
    "print(\"Current date and time is:\")\n",
    "print(now.strftime(\"%y-%m-%d %H:%M:%S\"))"
   ]
  },
  {
   "cell_type": "code",
   "execution_count": 4,
   "metadata": {},
   "outputs": [
    {
     "name": "stdout",
     "output_type": "stream",
     "text": [
      "Enter the radius of the circle\t3\n",
      "The area of circle 3.0is 28.274333882308138\n"
     ]
    }
   ],
   "source": [
    "#to find area of a circle\n",
    "from math import pi\n",
    "r=float(input(\"Enter the radius of the circle\\t\"))\n",
    "area=pi*r*r\n",
    "print(\"The area of circle \"+str(r)+ \"is\", area)"
   ]
  },
  {
   "cell_type": "code",
   "execution_count": 9,
   "metadata": {},
   "outputs": [
    {
     "name": "stdout",
     "output_type": "stream",
     "text": [
      "Blue\n",
      "Red\n"
     ]
    }
   ],
   "source": [
    "#display first and last colours of given string\n",
    "colors=[\"Blue\",\"Pink\",\"Black\",\"Red\"]\n",
    "print(colors[0])\n",
    "print(colors[-1])\n"
   ]
  },
  {
   "cell_type": "code",
   "execution_count": 15,
   "metadata": {},
   "outputs": [
    {
     "name": "stdout",
     "output_type": "stream",
     "text": [
      "The exam date is 5-9-2016\n"
     ]
    }
   ],
   "source": [
    "#to display examination schedule \n",
    "exam_date=(5,9,2016)\n",
    "print(\"The exam date is %i-%i-%i\" %exam_date)"
   ]
  },
  {
   "cell_type": "code",
   "execution_count": null,
   "metadata": {},
   "outputs": [],
   "source": [
    "\n"
   ]
  }
 ],
 "metadata": {
  "kernelspec": {
   "display_name": "Python 3",
   "language": "python",
   "name": "python3"
  },
  "language_info": {
   "codemirror_mode": {
    "name": "ipython",
    "version": 3
   },
   "file_extension": ".py",
   "mimetype": "text/x-python",
   "name": "python",
   "nbconvert_exporter": "python",
   "pygments_lexer": "ipython3",
   "version": "3.8.3"
  }
 },
 "nbformat": 4,
 "nbformat_minor": 4
}
