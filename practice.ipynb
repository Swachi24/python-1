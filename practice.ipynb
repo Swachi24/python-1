{
 "cells": [
  {
   "cell_type": "code",
   "execution_count": 1,
   "metadata": {},
   "outputs": [
    {
     "name": "stdout",
     "output_type": "stream",
     "text": [
      "Enter the distane3\n",
      "The output is: 1.8645121193287757\n"
     ]
    }
   ],
   "source": [
    "# program to convert kilometres to miles\n",
    "kilo=eval(input(\"Enter the distane\"))\n",
    "miles=kilo/1.609\n",
    "print(\"The output is:\",miles)"
   ]
  },
  {
   "cell_type": "code",
   "execution_count": 2,
   "metadata": {},
   "outputs": [
    {
     "name": "stdout",
     "output_type": "stream",
     "text": [
      "Enter the temperature9\n",
      "The otput temperature is: 48.2\n"
     ]
    }
   ],
   "source": [
    "#program to convert celsius to fahrenheit\n",
    "cel=eval(input(\"Enter the temperature\"))\n",
    "fah=(cel*1.8)+32\n",
    "print(\"The otput temperature is:\",fah)"
   ]
  },
  {
   "cell_type": "code",
   "execution_count": 4,
   "metadata": {},
   "outputs": [
    {
     "name": "stdout",
     "output_type": "stream",
     "text": [
      "Enter the number:0\n",
      "The number is zero\n"
     ]
    }
   ],
   "source": [
    "#program to check whether number is positive,negetive or zero\n",
    "num=eval(input(\"Enter the number:\"))\n",
    "if(num>0):\n",
    "    print(\"The number is postive\")\n",
    "elif(num<0):\n",
    "    print(\"The number is negetive\")\n",
    "else: \n",
    "    print(\"The number is zero\")\n"
   ]
  },
  {
   "cell_type": "code",
   "execution_count": 5,
   "metadata": {},
   "outputs": [
    {
     "name": "stdout",
     "output_type": "stream",
     "text": [
      "Enter the number:56\n",
      "The number is even\n"
     ]
    }
   ],
   "source": [
    "#program to check whether the number is odd or even\n",
    "num=eval(input(\"Enter the number:\"))\n",
    "if(num%2==0):\n",
    "    print(\"The number is even\")\n",
    "else:\n",
    "    print(\"The number is odd\")"
   ]
  },
  {
   "cell_type": "code",
   "execution_count": 9,
   "metadata": {},
   "outputs": [
    {
     "name": "stdout",
     "output_type": "stream",
     "text": [
      "Enter the first number:5\n",
      "Enter the second number:8\n",
      "Enter the third number:3\n",
      "b is the greatest number\n"
     ]
    }
   ],
   "source": [
    "#find yhe largest of three numbers\n",
    "a=eval(input(\"Enter the first number:\"))\n",
    "b=eval(input(\"Enter the second number:\"))\n",
    "c=eval(input(\"Enter the third number:\"))\n",
    "if(a>b and a>c):\n",
    "    print(\"a is the greatest number\")\n",
    "elif(b>a and b>c): \n",
    "    print(\"b is the greatest number\")\n",
    "else:\n",
    "    print(\"c is the greatest number \")      "
   ]
  },
  {
   "cell_type": "code",
   "execution_count": 10,
   "metadata": {},
   "outputs": [
    {
     "name": "stdout",
     "output_type": "stream",
     "text": [
      "Enter the number:\t45\n",
      "This number is not prime\n"
     ]
    }
   ],
   "source": [
    "#WAP for prime number\n",
    "num=int(input(\"Enter the number:\\t\"))\n",
    "prime=True\n",
    "for i in range(2,num):\n",
    "    if(num%i==0):\n",
    "        prime=False\n",
    "        break\n",
    "if prime:\n",
    "    print(\"This number is prime\")\n",
    "else:\n",
    "    print(\"This number is not prime\")"
   ]
  },
  {
   "cell_type": "code",
   "execution_count": 12,
   "metadata": {},
   "outputs": [
    {
     "name": "stdout",
     "output_type": "stream",
     "text": [
      "Enter the lower interval5\n",
      "Enter the upper interval11\n",
      "5\n",
      "7\n",
      "11\n"
     ]
    }
   ],
   "source": [
    "#to display all prime numbers within an interval\n",
    "lower=int(input(\"Enter the lower interval\"))\n",
    "upper=int(input(\"Enter the upper interval\"))\n",
    "for num in range(lower,upper+1):\n",
    "    if num>1:\n",
    "        for i in range(2,num):\n",
    "            if(num%i)==0:\n",
    "                break\n",
    "        else:\n",
    "            print(num)"
   ]
  },
  {
   "cell_type": "code",
   "execution_count": 14,
   "metadata": {},
   "outputs": [
    {
     "name": "stdout",
     "output_type": "stream",
     "text": [
      "Enter the number:5\n",
      "The factorial is: 120\n"
     ]
    }
   ],
   "source": [
    "#to find the factorial\n",
    "num=int(input(\"Enter the number:\"))\n",
    "fact=1\n",
    "if (num==0):\n",
    "    print(\"The factorial is 0\")\n",
    "elif (num==1):\n",
    "    print(\"The factorial is 1\")\n",
    "else:\n",
    "    for i in range(num,0,-1):\n",
    "        fact=fact*i\n",
    "    print(\"The factorial is:\",fact)    "
   ]
  },
  {
   "cell_type": "code",
   "execution_count": 15,
   "metadata": {},
   "outputs": [
    {
     "name": "stdout",
     "output_type": "stream",
     "text": [
      "Enter the number\n",
      "5\n",
      "5X1=0\n",
      "5X1=5\n",
      "5X1=10\n",
      "5X1=15\n",
      "5X1=20\n",
      "5X1=25\n",
      "5X1=30\n",
      "5X1=35\n",
      "5X1=40\n",
      "5X1=45\n",
      "5X1=50\n"
     ]
    }
   ],
   "source": [
    "#WAP to print multiplication table\n",
    "num=int(input(\"Enter the number\\n\"))\n",
    "for i in range(11):\n",
    "    print(f\"{num}X{1}={num*i}\")"
   ]
  },
  {
   "cell_type": "code",
   "execution_count": 16,
   "metadata": {},
   "outputs": [
    {
     "name": "stdout",
     "output_type": "stream",
     "text": [
      "Enter the numbers you want:4\n",
      "0\n",
      "1\n",
      "1\n",
      "2\n"
     ]
    }
   ],
   "source": [
    "#to print fibonacci series\n",
    "num=int(input(\"Enter the numbers you want:\"))\n",
    "first,second=0,1\n",
    "for i in range(num):\n",
    "    print(first)\n",
    "    temp=first\n",
    "    first=second\n",
    "    second=first+temp\n",
    "    \n",
    "    "
   ]
  },
  {
   "cell_type": "code",
   "execution_count": 17,
   "metadata": {},
   "outputs": [
    {
     "name": "stdout",
     "output_type": "stream",
     "text": [
      "Enter the numbers:153\n",
      "This is armstrong number\n"
     ]
    }
   ],
   "source": [
    "#to check armstrong number\n",
    "num=int(input(\"Enter the numbers:\"))\n",
    "sum=0\n",
    "temp=num\n",
    "while temp>0:\n",
    "    digit=temp%10\n",
    "    sum=sum+digit**3\n",
    "    temp=temp//10\n",
    "if sum==num:\n",
    "    print(\"This is armstrong number\")\n",
    "else:\n",
    "    print(\"This is not an armstrong number\")"
   ]
  },
  {
   "cell_type": "code",
   "execution_count": null,
   "metadata": {},
   "outputs": [],
   "source": []
  }
 ],
 "metadata": {
  "kernelspec": {
   "display_name": "Python 3",
   "language": "python",
   "name": "python3"
  },
  "language_info": {
   "codemirror_mode": {
    "name": "ipython",
    "version": 3
   },
   "file_extension": ".py",
   "mimetype": "text/x-python",
   "name": "python",
   "nbconvert_exporter": "python",
   "pygments_lexer": "ipython3",
   "version": "3.8.3"
  }
 },
 "nbformat": 4,
 "nbformat_minor": 4
}
