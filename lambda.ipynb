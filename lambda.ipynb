{
 "cells": [
  {
   "cell_type": "code",
   "execution_count": 4,
   "metadata": {},
   "outputs": [
    {
     "name": "stdout",
     "output_type": "stream",
     "text": [
      "[{'make': 'Nokia', 'model': 216, 'color': 'Black'}, {'make': 'Mi Max', 'model': 2, 'color': 'Gold'}, {'make': 'Samsung', 'model': 7, 'color': 'Blue'}]\n",
      "[{'make': 'Nokia', 'model': 216, 'color': 'Black'}, {'make': 'Samsung', 'model': 7, 'color': 'Blue'}, {'make': 'Mi Max', 'model': 2, 'color': 'Gold'}]\n"
     ]
    }
   ],
   "source": [
    "#to sort a list of dictionaries\n",
    "model=[{\"make\":\"Nokia\",\"model\":216,\"color\":\"Black\"},\n",
    "      {\"make\":\"Mi Max\",\"model\":2,\"color\":\"Gold\"},\n",
    "      {\"make\":\"Samsung\",\"model\":7,\"color\":\"Blue\"}]\n",
    "print(model)\n",
    "sort=sorted(model,key= lambda x : x[\"color\"])\n",
    "print(sort)"
   ]
  },
  {
   "cell_type": "code",
   "execution_count": 5,
   "metadata": {},
   "outputs": [
    {
     "name": "stdout",
     "output_type": "stream",
     "text": [
      "[1, 2, 3, 4, 5, 6, 7, 8, 9, 0]\n",
      "[2, 4, 6, 8, 0]\n",
      "[1, 3, 5, 7, 9]\n"
     ]
    }
   ],
   "source": [
    "#Exercise 5\n",
    "num=[1,2,3,4,5,6,7,8,9,0]\n",
    "print(num)\n",
    "even=list(filter(lambda x : x%2==0,num))\n",
    "print(even)\n",
    "odd=list(filter(lambda x : x%2!=0,num))\n",
    "print(odd)"
   ]
  },
  {
   "cell_type": "code",
   "execution_count": 7,
   "metadata": {},
   "outputs": [
    {
     "name": "stdout",
     "output_type": "stream",
     "text": [
      "[1, 2, 3, 4, 5, 6, 7, 8, 9, 0]\n",
      "[1, 4, 9, 16, 25, 36, 49, 64, 81, 0]\n",
      "[1, 8, 27, 64, 125, 216, 343, 512, 729, 0]\n"
     ]
    }
   ],
   "source": [
    "num=[1,2,3,4,5,6,7,8,9,0]\n",
    "print(num)\n",
    "square=list(map(lambda x : x**2,num))\n",
    "print(square)\n",
    "cube=list(map(lambda x : x**3,num))\n",
    "print(cube)"
   ]
  },
  {
   "cell_type": "code",
   "execution_count": 5,
   "metadata": {},
   "outputs": [
    {
     "name": "stdout",
     "output_type": "stream",
     "text": [
      "True\n",
      "False\n"
     ]
    }
   ],
   "source": [
    "#to find whether a given string starts with a given character\n",
    "start=lambda x : True if x.startswith(\"P\") else False\n",
    "print (start(\"Python\"))\n",
    "print(start(\"Java\"))"
   ]
  },
  {
   "cell_type": "code",
   "execution_count": 8,
   "metadata": {},
   "outputs": [
    {
     "name": "stdout",
     "output_type": "stream",
     "text": [
      "2021-06-29 16:21:15.185198\n",
      "2021\n",
      "6\n",
      "29\n",
      "16:21:15.185198\n"
     ]
    }
   ],
   "source": [
    "#extract year,month,date,time\n",
    "import datetime\n",
    "now=datetime.datetime.now()\n",
    "print(now)\n",
    "year=lambda x : x.year\n",
    "month=lambda x: x.month\n",
    "day=lambda x : x.day\n",
    "tim= lambda x : x.time()\n",
    "print(year(now))\n",
    "print(month(now))\n",
    "print(day(now))\n",
    "print(tim(now))"
   ]
  },
  {
   "cell_type": "code",
   "execution_count": 11,
   "metadata": {},
   "outputs": [
    {
     "name": "stdout",
     "output_type": "stream",
     "text": [
      "[1, 2, 3, 4, 5, 6, 7, 8, 9, 0]\n",
      "[1, 2, 4, 8, 9, 22, 44, 77]\n",
      "[1, 2, 4, 8, 9]\n"
     ]
    }
   ],
   "source": [
    "#find intersection\n",
    "num1=[1,2,3,4,5,6,7,8,9,0]\n",
    "num2=[1,2,4,8,9,22,44,77]\n",
    "print(num1)\n",
    "print(num2)\n",
    "res=list(filter(lambda x : x in num1,num2))\n",
    "print(res)"
   ]
  },
  {
   "cell_type": "code",
   "execution_count": 13,
   "metadata": {},
   "outputs": [
    {
     "name": "stdout",
     "output_type": "stream",
     "text": [
      "[-1, 2, -3, 5, 7, 8, 9, -10]\n",
      "[-1, -3, -10, 2, 5, 7, 8, 9]\n"
     ]
    }
   ],
   "source": [
    "#rearranging number\n",
    "num=[-1,2,-3,5,7,8,9,-10]\n",
    "print(num)\n",
    "res=[x for x in num if x < 0 ] + [x for x in num if x >= 0]\n",
    "print(res)"
   ]
  },
  {
   "cell_type": "code",
   "execution_count": 12,
   "metadata": {},
   "outputs": [
    {
     "name": "stdout",
     "output_type": "stream",
     "text": [
      "30\n"
     ]
    }
   ],
   "source": [
    "#add 15 to a number\n",
    "r=lambda a : a+15\n",
    "print(r(15))"
   ]
  },
  {
   "cell_type": "code",
   "execution_count": 4,
   "metadata": {},
   "outputs": [
    {
     "name": "stdout",
     "output_type": "stream",
     "text": [
      "20\n"
     ]
    }
   ],
   "source": [
    "#multiply two arguments\n",
    "r=lambda x,y : x*y\n",
    "print(r(10,2))"
   ]
  },
  {
   "cell_type": "code",
   "execution_count": 7,
   "metadata": {},
   "outputs": [
    {
     "name": "stdout",
     "output_type": "stream",
     "text": [
      "4\n",
      "9\n"
     ]
    }
   ],
   "source": [
    "#to create a function that takes one argument and that should be multiplied with an unknown number\n",
    "def compute(n):\n",
    "    return lambda x : x * n\n",
    "res=compute(2)\n",
    "print(res(2))\n",
    "res=compute(3)\n",
    "print(res(3))"
   ]
  },
  {
   "cell_type": "code",
   "execution_count": 9,
   "metadata": {},
   "outputs": [
    {
     "name": "stdout",
     "output_type": "stream",
     "text": [
      "[('English', 88), ('Science', 82), ('Maths', 94), ('Social', 76)]\n",
      "[('English', 88), ('Maths', 94), ('Science', 82), ('Social', 76)]\n"
     ]
    }
   ],
   "source": [
    "#to sort a list of tuples using lambda\n",
    "sm=[(\"English\",88),(\"Science\",82),(\"Maths\",94),(\"Social\",76)]\n",
    "print(sm)\n",
    "sm.sort(key=lambda x:x[0])\n",
    "print(sm)"
   ]
  },
  {
   "cell_type": "code",
   "execution_count": 10,
   "metadata": {},
   "outputs": [
    {
     "name": "stdout",
     "output_type": "stream",
     "text": [
      "[('Social', 76), ('Science', 82), ('English', 88), ('Maths', 94)]\n"
     ]
    }
   ],
   "source": [
    "sm.sort(key=lambda x:x[1])\n",
    "print(sm)"
   ]
  },
  {
   "cell_type": "code",
   "execution_count": null,
   "metadata": {},
   "outputs": [],
   "source": []
  }
 ],
 "metadata": {
  "kernelspec": {
   "display_name": "Python 3",
   "language": "python",
   "name": "python3"
  },
  "language_info": {
   "codemirror_mode": {
    "name": "ipython",
    "version": 3
   },
   "file_extension": ".py",
   "mimetype": "text/x-python",
   "name": "python",
   "nbconvert_exporter": "python",
   "pygments_lexer": "ipython3",
   "version": "3.8.3"
  }
 },
 "nbformat": 4,
 "nbformat_minor": 4
}
