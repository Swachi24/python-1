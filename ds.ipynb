{
 "cells": [
  {
   "cell_type": "code",
   "execution_count": 1,
   "metadata": {},
   "outputs": [
    {
     "name": "stdout",
     "output_type": "stream",
     "text": [
      "Enter 2 numbers:4 7\n",
      "The product is: 28\n"
     ]
    }
   ],
   "source": [
    "#to read multple values in keyboard in a single line\n",
    "a,b=[int(x) for x in input(\"Enter 2 numbers:\").split()]\n",
    "print(\"The product is:\",a*b)"
   ]
  },
  {
   "cell_type": "code",
   "execution_count": 4,
   "metadata": {},
   "outputs": [
    {
     "name": "stdout",
     "output_type": "stream",
     "text": [
      "Enter 2 numbers:67.9,45.7\n",
      "The sum is: 113.60000000000001\n"
     ]
    }
   ],
   "source": [
    "#to read float values\n",
    "a,b=[float(x) for x in input(\"Enter 2 numbers:\").split(\",\")]\n",
    "print(\"The sum is:\",a+b)"
   ]
  },
  {
   "cell_type": "code",
   "execution_count": 6,
   "metadata": {},
   "outputs": [
    {
     "name": "stdout",
     "output_type": "stream",
     "text": [
      "Enter the given expression:67+78*65-45/4\n",
      "The result is: 5125.75\n"
     ]
    }
   ],
   "source": [
    "#to read expressions\n",
    "res=eval(input(\"Enter the given expression:\"))\n",
    "print(\"The result is:\",res)"
   ]
  },
  {
   "cell_type": "code",
   "execution_count": 9,
   "metadata": {},
   "outputs": [
    {
     "name": "stdout",
     "output_type": "stream",
     "text": [
      "The number of command line arguments: 3\n",
      "The list of command line arguments: ['C:\\\\Users\\\\SSB\\\\anaconda3\\\\lib\\\\site-packages\\\\ipykernel_launcher.py', '-f', 'C:\\\\Users\\\\SSB\\\\AppData\\\\Roaming\\\\jupyter\\\\runtime\\\\kernel-bb5a1289-dcce-431d-9a21-af1d8dba1740.json']\n",
      "The command line arguments one by one:\n",
      "C:\\Users\\SSB\\anaconda3\\lib\\site-packages\\ipykernel_launcher.py\n",
      "-f\n",
      "C:\\Users\\SSB\\AppData\\Roaming\\jupyter\\runtime\\kernel-bb5a1289-dcce-431d-9a21-af1d8dba1740.json\n"
     ]
    }
   ],
   "source": [
    "#to read command lines\n",
    "from sys import argv\n",
    "print(\"The number of command line arguments:\",len(argv))\n",
    "print(\"The list of command line arguments:\",argv)\n",
    "print(\"The command line arguments one by one:\")\n",
    "for x in argv:\n",
    "    print(x)"
   ]
  },
  {
   "cell_type": "code",
   "execution_count": 10,
   "metadata": {},
   "outputs": [
    {
     "name": "stdout",
     "output_type": "stream",
     "text": [
      "10,20,30\n",
      "10:20:30\n"
     ]
    }
   ],
   "source": [
    "#sep attribute\n",
    "a,b,c=10,20,30\n",
    "print(a,b,c,sep=\",\")\n",
    "print(a,b,c,sep=\":\")"
   ]
  },
  {
   "cell_type": "code",
   "execution_count": 18,
   "metadata": {},
   "outputs": [
    {
     "name": "stdout",
     "output_type": "stream",
     "text": [
      "Hello Students Welcome "
     ]
    }
   ],
   "source": [
    "#end attribute\n",
    "print(\"Hello\",end=\" \")\n",
    "print(\"Students\",end=\" \")\n",
    "print(\"Welcome\",end=\" \")"
   ]
  },
  {
   "cell_type": "code",
   "execution_count": 17,
   "metadata": {},
   "outputs": [
    {
     "name": "stdout",
     "output_type": "stream",
     "text": [
      "10:20:30:40....50:60:70:80\n"
     ]
    }
   ],
   "source": [
    "print(10,20,30,40,sep=\":\",end=\"....\")\n",
    "print(50,60,70,80,sep=\":\")"
   ]
  },
  {
   "cell_type": "code",
   "execution_count": 20,
   "metadata": {},
   "outputs": [
    {
     "name": "stdout",
     "output_type": "stream",
     "text": [
      "Enter the string:swachi b\n",
      "The character present at: 0 index is s\n",
      "The character present at: 1 index is w\n",
      "The character present at: 2 index is a\n",
      "The character present at: 3 index is c\n",
      "The character present at: 4 index is h\n",
      "The character present at: 5 index is i\n",
      "The character present at: 6 index is  \n",
      "The character present at: 7 index is b\n"
     ]
    }
   ],
   "source": [
    "#to count the index\n",
    "s=input(\"Enter the string:\")\n",
    "i=0\n",
    "for x in s:\n",
    "    print(\"The character present at:\",i, \"index is\",x)\n",
    "    i=i+1"
   ]
  },
  {
   "cell_type": "code",
   "execution_count": null,
   "metadata": {},
   "outputs": [],
   "source": [
    "#chwck the name\n",
    "name=\" \"\n",
    "while name!=\"swachi\":\n",
    "    n=input(\"Enter the name again\")\n",
    "print(\"Hello Swachi\")"
   ]
  },
  {
   "cell_type": "code",
   "execution_count": 7,
   "metadata": {},
   "outputs": [
    {
     "name": "stdout",
     "output_type": "stream",
     "text": [
      "Placing item: 10\n",
      "Placing item: 20\n",
      "Placing item: 30\n",
      "Placing item: 40\n",
      "Placing item: 100\n",
      "Placing item: 50\n",
      "Placing item: 60\n"
     ]
    }
   ],
   "source": [
    "#break statement\n",
    "cart=[10,20,30,40,100,50,60]\n",
    "for item in cart:\n",
    "    if item>100:\n",
    "        print(\"We can't place the order:\",item)\n",
    "        break\n",
    "    print(\"Placing item:\",item)    "
   ]
  },
  {
   "cell_type": "code",
   "execution_count": 3,
   "metadata": {},
   "outputs": [
    {
     "name": "stdout",
     "output_type": "stream",
     "text": [
      "Placing item: 10\n",
      "Placing item: 20\n",
      "Placing item: 30\n",
      "Placing item: 40\n",
      "Placing item: 100\n",
      "Placing item: 50\n",
      "Placing item: 60\n"
     ]
    }
   ],
   "source": [
    "#break statement\n",
    "cart=[10,20,30,40,100,50,60]\n",
    "for item in cart:\n",
    "    if item>100:\n",
    "        print(\"We can't place the order\")\n",
    "        continue\n",
    "    print(\"Placing item:\",item)    "
   ]
  },
  {
   "cell_type": "code",
   "execution_count": null,
   "metadata": {},
   "outputs": [],
   "source": []
  }
 ],
 "metadata": {
  "kernelspec": {
   "display_name": "Python 3",
   "language": "python",
   "name": "python3"
  },
  "language_info": {
   "codemirror_mode": {
    "name": "ipython",
    "version": 3
   },
   "file_extension": ".py",
   "mimetype": "text/x-python",
   "name": "python",
   "nbconvert_exporter": "python",
   "pygments_lexer": "ipython3",
   "version": "3.8.3"
  }
 },
 "nbformat": 4,
 "nbformat_minor": 4
}
