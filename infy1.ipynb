{
 "cells": [
  {
   "cell_type": "code",
   "execution_count": 2,
   "metadata": {},
   "outputs": [
    {
     "name": "stdout",
     "output_type": "stream",
     "text": [
      "5,6,8,4,3,2,1,7,0,9,8\n",
      "['5', '6', '8', '4', '3', '2', '1', '7', '0', '9', '8']\n",
      "36\n",
      "43217\n",
      "43253\n"
     ]
    }
   ],
   "source": [
    "num_list=input().split(\",\")\n",
    "print(num_list)\n",
    "length=len(num_list)\n",
    "\n",
    "index_4=num_list.index(\"4\")\n",
    "index_7=num_list.index(\"7\")\n",
    "\n",
    "num1=0\n",
    "num2=\"\"\n",
    "\n",
    "for i in range (length):\n",
    "    if (i < index_4 or i > index_7):\n",
    "        num1+=int(num_list[i])\n",
    "print(num1)\n",
    "for i in range(index_4,index_7+1):\n",
    "    num2+=num_list[i]\n",
    "print(num2)\n",
    "print(num1+int(num2))    \n"
   ]
  },
  {
   "cell_type": "code",
   "execution_count": null,
   "metadata": {},
   "outputs": [],
   "source": [
    "l=list(map(int,input().split(\",\")))\n",
    "num1=sum(l[:l.index(4)]) + sum(l[l.index(7)+1:])\n",
    "lst=l[l.index(4):l.index(7)+1]\n",
    "num2=\"\"\n",
    "for i in lst:\n",
    "    num2+=str(i)\n",
    "print(int(num2)+num1)    \n"
   ]
  },
  {
   "cell_type": "code",
   "execution_count": 4,
   "metadata": {},
   "outputs": [
    {
     "name": "stdout",
     "output_type": "stream",
     "text": [
      "Apple a Day\n",
      "yDa elpA\n"
     ]
    }
   ],
   "source": [
    "#reverse a string after removing duplicates\n",
    "str=input()\n",
    "out=\"\"\n",
    "for i in str:\n",
    "    if i not in out:\n",
    "        out+=i\n",
    "print(out[::-1])    "
   ]
  },
  {
   "cell_type": "code",
   "execution_count": 1,
   "metadata": {},
   "outputs": [
    {
     "name": "stdout",
     "output_type": "stream",
     "text": [
      "Google is best\n",
      "tbsi elgoG\n"
     ]
    }
   ],
   "source": [
    "string=input()\n",
    "d=list(dict.fromkeys(string))\n",
    "d.reverse()\n",
    "print(\"\".join(d))"
   ]
  },
  {
   "cell_type": "code",
   "execution_count": 5,
   "metadata": {
    "scrolled": true
   },
   "outputs": [
    {
     "name": "stdout",
     "output_type": "stream",
     "text": [
      "5624381275\n",
      "3616\n"
     ]
    }
   ],
   "source": [
    "#OTP\n",
    "input_num=input()\n",
    "length=len(input_num)\n",
    "result=\"\"\n",
    "for odd in range(1,length,2):\n",
    "    result+=str(int(input_num[odd])**2)\n",
    "print(result[0:4])    "
   ]
  },
  {
   "cell_type": "code",
   "execution_count": 10,
   "metadata": {},
   "outputs": [
    {
     "name": "stdout",
     "output_type": "stream",
     "text": [
      "asdf@75483\n",
      "-1\n",
      "87534\n"
     ]
    }
   ],
   "source": [
    "str=input()\n",
    "digits=[i for i in set(str) if i.isdigit()]\n",
    "digits.sort()\n",
    "digits.reverse()\n",
    "num=int(\"\".join(digits))\n",
    "if num%2==0:\n",
    "    print(num)\n",
    "else:\n",
    "    length=len(digits)\n",
    "    for i in range(length-1,0,-1):\n",
    "        if int(digits[i])%2==0:\n",
    "            a=digits[i]\n",
    "            digits.remove(a)\n",
    "            digits.insert(length-1,a)\n",
    "            even=int(\"\".join(digits))\n",
    "            print(even)\n",
    "            break\n",
    "        else:\n",
    "            print(-1)"
   ]
  },
  {
   "cell_type": "code",
   "execution_count": null,
   "metadata": {},
   "outputs": [],
   "source": []
  }
 ],
 "metadata": {
  "kernelspec": {
   "display_name": "Python 3",
   "language": "python",
   "name": "python3"
  },
  "language_info": {
   "codemirror_mode": {
    "name": "ipython",
    "version": 3
   },
   "file_extension": ".py",
   "mimetype": "text/x-python",
   "name": "python",
   "nbconvert_exporter": "python",
   "pygments_lexer": "ipython3",
   "version": "3.8.3"
  }
 },
 "nbformat": 4,
 "nbformat_minor": 4
}
