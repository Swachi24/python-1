{
 "cells": [
  {
   "cell_type": "code",
   "execution_count": 5,
   "metadata": {},
   "outputs": [
    {
     "name": "stdout",
     "output_type": "stream",
     "text": [
      "Enter the string:\tAppla\n",
      "Appla\n",
      "$ppl$\n"
     ]
    }
   ],
   "source": [
    "#to replace all occurences of a with $\n",
    "string=input(\"Enter the string:\\t\")\n",
    "str=\"\"\n",
    "for x in range(len(string)):\n",
    "    if string[x]==\"a\" or string[x]==\"A\":\n",
    "        str+=\"$\"\n",
    "    else:\n",
    "        str+=string[x]\n",
    "print(string)\n",
    "print(str)"
   ]
  },
  {
   "cell_type": "code",
   "execution_count": 8,
   "metadata": {},
   "outputs": [
    {
     "name": "stdout",
     "output_type": "stream",
     "text": [
      "Enter the string:\tAsia\n",
      "Asia\n",
      "$si$\n"
     ]
    }
   ],
   "source": [
    "string=input(\"Enter the string:\\t\")\n",
    "print(string)\n",
    "string=string.replace(\"a\",\"$\")\n",
    "string=string.replace(\"A\",\"$\")\n",
    "print(string)\n"
   ]
  },
  {
   "cell_type": "code",
   "execution_count": 11,
   "metadata": {},
   "outputs": [
    {
     "name": "stdout",
     "output_type": "stream",
     "text": [
      "Enter the index to be removed:\t4\n",
      "Enter the string:\tswachi\n",
      "swachi\n",
      "swaci\n"
     ]
    }
   ],
   "source": [
    "#to remove nth index charactr from nonempty string\n",
    "n=int(input(\"Enter the index to be removed:\\t\"))\n",
    "string=input(\"Enter the string:\\t\")\n",
    "mod=\"\"\n",
    "for i in range(len(string)):\n",
    "    if i!=n:\n",
    "        mod+=string[i]\n",
    "print(string)\n",
    "print(mod)"
   ]
  },
  {
   "cell_type": "code",
   "execution_count": 13,
   "metadata": {},
   "outputs": [
    {
     "name": "stdout",
     "output_type": "stream",
     "text": [
      "Enter the index:\t3\n",
      "Enter the string:\tswachi\n",
      "swahi\n"
     ]
    }
   ],
   "source": [
    "def remove(string,n):\n",
    "    first=string[:n]\n",
    "    last=string[n+1:]\n",
    "    return first+last\n",
    "n=int(input(\"Enter the index:\\t\"))    \n",
    "string=input(\"Enter the string:\\t\")   \n",
    "print(remove(string,n))"
   ]
  },
  {
   "cell_type": "code",
   "execution_count": 3,
   "metadata": {},
   "outputs": [
    {
     "name": "stdout",
     "output_type": "stream",
     "text": [
      "Enter first tring:\tlisten\n",
      "Enter second string:\tsilent\n",
      "Anagrams\n"
     ]
    }
   ],
   "source": [
    "#check if two numbers are anagram\n",
    "def anagram(s1,s2):\n",
    "    if sorted(s1)==sorted(s2):\n",
    "        print(\"Anagrams\")\n",
    "    else:\n",
    "        print(\"Non Anagrams\")\n",
    "s1=input(\"Enter first tring:\\t\")\n",
    "s2=input(\"Enter second string:\\t\")\n",
    "anagram(s1,s2)"
   ]
  },
  {
   "cell_type": "code",
   "execution_count": 4,
   "metadata": {},
   "outputs": [
    {
     "name": "stdout",
     "output_type": "stream",
     "text": [
      "Enter the stringswachi\n",
      "iwachs\n"
     ]
    }
   ],
   "source": [
    "# to form a string where first and last character are interchanged\n",
    "def change(string):\n",
    "    return string[-1:]+string[1:-1]+string[:1]\n",
    "string=input(\"Enter the string\")\n",
    "print(change(string))"
   ]
  },
  {
   "cell_type": "code",
   "execution_count": 5,
   "metadata": {},
   "outputs": [
    {
     "name": "stdout",
     "output_type": "stream",
     "text": [
      "Enter the string:\tswachi sweta\n",
      "swachi sweta\n",
      "swachi-sweta\n"
     ]
    }
   ],
   "source": [
    "#to replace blankspace with hypen\n",
    "string=input(\"Enter the string:\\t\")\n",
    "print(string)\n",
    "string=string.replace(\" \",\"-\")\n",
    "print(string)"
   ]
  },
  {
   "cell_type": "code",
   "execution_count": 8,
   "metadata": {},
   "outputs": [
    {
     "name": "stdout",
     "output_type": "stream",
     "text": [
      "Enter the string:\tswachi sweta\n",
      "2\n",
      "12\n"
     ]
    }
   ],
   "source": [
    "#to count number of words and character\n",
    "string=input(\"Enter the string:\\t\")\n",
    "char=0\n",
    "word=1\n",
    "for i in string:\n",
    "    char=char+1\n",
    "    if i==\" \":\n",
    "        word=word+1\n",
    "print(word)\n",
    "print(char)"
   ]
  },
  {
   "cell_type": "code",
   "execution_count": null,
   "metadata": {},
   "outputs": [],
   "source": []
  }
 ],
 "metadata": {
  "kernelspec": {
   "display_name": "Python 3",
   "language": "python",
   "name": "python3"
  },
  "language_info": {
   "codemirror_mode": {
    "name": "ipython",
    "version": 3
   },
   "file_extension": ".py",
   "mimetype": "text/x-python",
   "name": "python",
   "nbconvert_exporter": "python",
   "pygments_lexer": "ipython3",
   "version": "3.8.3"
  }
 },
 "nbformat": 4,
 "nbformat_minor": 4
}
