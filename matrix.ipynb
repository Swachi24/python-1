{
 "cells": [
  {
   "cell_type": "code",
   "execution_count": 8,
   "metadata": {},
   "outputs": [
    {
     "name": "stdout",
     "output_type": "stream",
     "text": [
      "[10, 10, 10]\n",
      "[10, 10, 10]\n",
      "[10, 10, 10]\n"
     ]
    }
   ],
   "source": [
    "#add the two matrix\n",
    "X=[[1,2,3],[4,5,6],[7,8,9]]\n",
    "Y=[[9,8,7],[6,5,4],[3,2,1]]\n",
    "res=[[0,0,0],[0,0,0],[0,0,0]]\n",
    "for i in range (len(X)):\n",
    "    for j in range(len(X[0])):\n",
    "        res[i][j]=X[i][j]+Y[i][j]\n",
    "for r in res:        \n",
    "    print(r)        "
   ]
  },
  {
   "cell_type": "code",
   "execution_count": 9,
   "metadata": {},
   "outputs": [
    {
     "name": "stdout",
     "output_type": "stream",
     "text": [
      "[[10, 10, 10], [10, 10, 10], [10, 10, 10]]\n"
     ]
    }
   ],
   "source": [
    "X=[[1,2,3],[4,5,6],[7,8,9]]\n",
    "Y=[[9,8,7],[6,5,4],[3,2,1]]\n",
    "res=[[0,0,0],[0,0,0],[0,0,0]]\n",
    "for i in range (len(X)):\n",
    "    for j in range(len(Y)):\n",
    "        res[i][j]=X[i][j]+Y[i][j]       \n",
    "print(res)        "
   ]
  },
  {
   "cell_type": "code",
   "execution_count": 12,
   "metadata": {},
   "outputs": [
    {
     "name": "stdout",
     "output_type": "stream",
     "text": [
      "[10, 10, 10]\n",
      "[10, 10, 10]\n",
      "[10, 10, 10]\n"
     ]
    }
   ],
   "source": [
    "X=[[1,2,3],[4,5,6],[7,8,9]]\n",
    "Y=[[9,8,7],[6,5,4],[3,2,1]]\n",
    "res=[[X[i][j]+Y[i][j] for j in range (len(X[0]))] for i in range (len(X))]\n",
    "for r in res:\n",
    "    print(r)"
   ]
  },
  {
   "cell_type": "code",
   "execution_count": 13,
   "metadata": {},
   "outputs": [
    {
     "name": "stdout",
     "output_type": "stream",
     "text": [
      "[9, 16, 21]\n",
      "[24, 25, 24]\n",
      "[21, 16, 9]\n"
     ]
    }
   ],
   "source": [
    "#multiplication\n",
    "X=[[1,2,3],[4,5,6],[7,8,9]]\n",
    "Y=[[9,8,7],[6,5,4],[3,2,1]]\n",
    "res=[[0,0,0],[0,0,0],[0,0,0]]\n",
    "for i in range (len(X)):\n",
    "    for j in range(len(X[0])):\n",
    "        res[i][j]=X[i][j]*Y[i][j]\n",
    "for r in res:        \n",
    "    print(r)    "
   ]
  },
  {
   "cell_type": "code",
   "execution_count": 14,
   "metadata": {},
   "outputs": [
    {
     "name": "stdout",
     "output_type": "stream",
     "text": [
      "[[9, 16, 21], [24, 25, 24], [21, 16, 9]]\n"
     ]
    }
   ],
   "source": [
    "X=[[1,2,3],[4,5,6],[7,8,9]]\n",
    "Y=[[9,8,7],[6,5,4],[3,2,1]]\n",
    "res=[[0,0,0],[0,0,0],[0,0,0]]\n",
    "for i in range (len(X)):\n",
    "    for j in range(len(Y)):\n",
    "        res[i][j]=X[i][j]*Y[i][j]       \n",
    "print(res)        "
   ]
  },
  {
   "cell_type": "code",
   "execution_count": 15,
   "metadata": {},
   "outputs": [
    {
     "name": "stdout",
     "output_type": "stream",
     "text": [
      "[9, 16, 21]\n",
      "[24, 25, 24]\n",
      "[21, 16, 9]\n"
     ]
    }
   ],
   "source": [
    "X=[[1,2,3],[4,5,6],[7,8,9]]\n",
    "Y=[[9,8,7],[6,5,4],[3,2,1]]\n",
    "res=[[X[i][j]*Y[i][j] for j in range (len(X[0]))] for i in range (len(X))]\n",
    "for r in res:\n",
    "    print(r)"
   ]
  },
  {
   "cell_type": "code",
   "execution_count": 19,
   "metadata": {},
   "outputs": [
    {
     "name": "stdout",
     "output_type": "stream",
     "text": [
      "[[1 2]\n",
      " [3 4]]\n",
      "[[4 5]\n",
      " [6 7]]\n"
     ]
    }
   ],
   "source": [
    "#addition and substraction\n",
    "import numpy as np\n",
    "a=np.array([[1,2],[3,4]])\n",
    "b=np.array([[4,5],[6,7]])\n",
    "print(a)\n",
    "print(b)\n"
   ]
  },
  {
   "cell_type": "code",
   "execution_count": 20,
   "metadata": {},
   "outputs": [
    {
     "name": "stdout",
     "output_type": "stream",
     "text": [
      "[[ 5  7]\n",
      " [ 9 11]]\n"
     ]
    }
   ],
   "source": [
    "print(np.add(a,b))"
   ]
  },
  {
   "cell_type": "code",
   "execution_count": 18,
   "metadata": {},
   "outputs": [
    {
     "name": "stdout",
     "output_type": "stream",
     "text": [
      "[[-3 -3]\n",
      " [-3 -3]]\n"
     ]
    }
   ],
   "source": [
    "print(np.subtract(a,b))"
   ]
  },
  {
   "cell_type": "code",
   "execution_count": 21,
   "metadata": {},
   "outputs": [
    {
     "name": "stdout",
     "output_type": "stream",
     "text": [
      "[1, 2]\n",
      "[3, 4]\n",
      "[5, 6]\n"
     ]
    }
   ],
   "source": [
    "#to find the transpose\n",
    "m=[[1,2],[3,4],[5,6]]\n",
    "for row in m:\n",
    "    print (row)"
   ]
  },
  {
   "cell_type": "code",
   "execution_count": 22,
   "metadata": {},
   "outputs": [
    {
     "name": "stdout",
     "output_type": "stream",
     "text": [
      "[1, 3, 5]\n",
      "[2, 4, 6]\n"
     ]
    }
   ],
   "source": [
    "res=[[m[j][i] for j in range (len(m))] for i in range (len(m[0]))]\n",
    "for r in res:\n",
    "    print(r)"
   ]
  },
  {
   "cell_type": "code",
   "execution_count": 25,
   "metadata": {},
   "outputs": [
    {
     "name": "stdout",
     "output_type": "stream",
     "text": [
      "[[1 2 3]\n",
      " [4 5 6]]\n"
     ]
    }
   ],
   "source": [
    "import numpy as np\n",
    "m=np.array([[1,2,3],[4,5,6]])\n",
    "print(m)"
   ]
  },
  {
   "cell_type": "code",
   "execution_count": 26,
   "metadata": {},
   "outputs": [
    {
     "name": "stdout",
     "output_type": "stream",
     "text": [
      "[[1 4]\n",
      " [2 5]\n",
      " [3 6]]\n"
     ]
    }
   ],
   "source": [
    "print(m.T)"
   ]
  },
  {
   "cell_type": "code",
   "execution_count": null,
   "metadata": {},
   "outputs": [],
   "source": []
  },
  {
   "cell_type": "code",
   "execution_count": null,
   "metadata": {},
   "outputs": [],
   "source": []
  }
 ],
 "metadata": {
  "kernelspec": {
   "display_name": "Python 3",
   "language": "python",
   "name": "python3"
  },
  "language_info": {
   "codemirror_mode": {
    "name": "ipython",
    "version": 3
   },
   "file_extension": ".py",
   "mimetype": "text/x-python",
   "name": "python",
   "nbconvert_exporter": "python",
   "pygments_lexer": "ipython3",
   "version": "3.8.3"
  }
 },
 "nbformat": 4,
 "nbformat_minor": 4
}
