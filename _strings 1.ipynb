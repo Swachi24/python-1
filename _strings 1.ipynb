{
 "cells": [
  {
   "cell_type": "code",
   "execution_count": 1,
   "metadata": {},
   "outputs": [
    {
     "name": "stdout",
     "output_type": "stream",
     "text": [
      "Enter the string:\tswachi\n",
      "swachi\n",
      "Reversed string is: ihcaws\n"
     ]
    }
   ],
   "source": [
    "#reverse a string using slicing\n",
    "s=input(\"Enter the string:\\t\")\n",
    "print(s)\n",
    "s=s[::-1] \n",
    "print(\"Reversed string is:\",s)"
   ]
  },
  {
   "cell_type": "code",
   "execution_count": 2,
   "metadata": {},
   "outputs": [
    {
     "name": "stdout",
     "output_type": "stream",
     "text": [
      "Enter the string:\tPython is easy\n",
      "Python is easy\n",
      "Reversed string is: ysae si nohtyP\n"
     ]
    }
   ],
   "source": [
    "s=input(\"Enter the string:\\t\")\n",
    "print(s)\n",
    "s=s[::-1] \n",
    "print(\"Reversed string is:\",s)"
   ]
  },
  {
   "cell_type": "code",
   "execution_count": 8,
   "metadata": {},
   "outputs": [
    {
     "name": "stdout",
     "output_type": "stream",
     "text": [
      "Enter the string:\tswachi\n",
      "swachi\n",
      "ihcaws"
     ]
    }
   ],
   "source": [
    "s=input(\"Enter the string:\\t\")\n",
    "print(s)\n",
    "n=len(s)\n",
    "i=-1\n",
    "while i>=-n:\n",
    "    print(s[i],end=\"\")\n",
    "    i-=1"
   ]
  },
  {
   "cell_type": "code",
   "execution_count": 1,
   "metadata": {},
   "outputs": [
    {
     "name": "stdout",
     "output_type": "stream",
     "text": [
      "Enter the stringSwachi SWETA BehEra\n",
      "The vowels are:\t 7\n"
     ]
    }
   ],
   "source": [
    "#count the number of vowels in a string\n",
    "s=input(\"Enter the string\")\n",
    "c=0\n",
    "for i in s:\n",
    "    if(i==\"A\" or i==\"a\" or i==\"E\" or i==\"e\" or i==\"I\" or i==\"i\" or i==\"O\" or i==\"o\" or i==\"U\" or i==\"u\"):\n",
    "       c+=1 \n",
    "print(\"The vowels are:\\t\",c)    "
   ]
  },
  {
   "cell_type": "code",
   "execution_count": 6,
   "metadata": {},
   "outputs": [
    {
     "name": "stdout",
     "output_type": "stream",
     "text": [
      "Enter the string:\tswachi\n",
      "swachi is not a palindrome:\n"
     ]
    }
   ],
   "source": [
    "#to find palindrome\n",
    "s=input(\"Enter the string:\\t\")\n",
    "rev=(s[::-1])\n",
    "if s==rev:\n",
    "    print(\"{} is palindrome:\".format(s))\n",
    "else:\n",
    "    print(\"{} is not a palindrome:\".format(s))"
   ]
  },
  {
   "cell_type": "code",
   "execution_count": 5,
   "metadata": {},
   "outputs": [
    {
     "name": "stdout",
     "output_type": "stream",
     "text": [
      "Enter the string:\tmadam\n",
      "madam is palindrome\n"
     ]
    }
   ],
   "source": [
    "s=input(\"Enter the string:\\t\")\n",
    "rev=(s[::-1])\n",
    "if s==rev:\n",
    "    print(\"{} is palindrome\".format(s))\n",
    "else:\n",
    "    print(\"{} is not a palindrome:\".format(s))"
   ]
  },
  {
   "cell_type": "code",
   "execution_count": 7,
   "metadata": {},
   "outputs": [
    {
     "name": "stdout",
     "output_type": "stream",
     "text": [
      "Enter the first name:\tswachi\n",
      "Enter the last name:\tbehera\n",
      " behera swachi\n"
     ]
    }
   ],
   "source": [
    "#to print first name and last name and print them in reverse order with a space\n",
    "first_name=input(\"Enter the first name:\\t\")\n",
    "last_name=input(\"Enter the last name:\\t\")\n",
    "print(\" \"+last_name+\" \"+first_name)"
   ]
  },
  {
   "cell_type": "code",
   "execution_count": 10,
   "metadata": {},
   "outputs": [
    {
     "name": "stdout",
     "output_type": "stream",
     "text": [
      "Enter the number of string:\tswachi\n",
      "The number of characters are:\t 6\n"
     ]
    }
   ],
   "source": [
    "#count the number of words\n",
    "s=input(\"Enter the number of string:\\t\")\n",
    "c=0\n",
    "for i in s:\n",
    "    c=c+1\n",
    "print(\"The number of characters are:\\t\",c)    "
   ]
  },
  {
   "cell_type": "code",
   "execution_count": 16,
   "metadata": {},
   "outputs": [
    {
     "name": "stdout",
     "output_type": "stream",
     "text": [
      "Enter the string:\tswachi\n",
      "The output is: swhi\n"
     ]
    }
   ],
   "source": [
    "#to return first 2 words and last 2 words if string length < 2\n",
    "s=input(\"Enter the string:\\t\")\n",
    "if len(s)<=2:\n",
    "    print(\" \")\n",
    "else:\n",
    "    p=(s[0:2])\n",
    "    q=(s[-2:])\n",
    "    print(\"The output is:\",p+q)"
   ]
  },
  {
   "cell_type": "code",
   "execution_count": 3,
   "metadata": {},
   "outputs": [
    {
     "name": "stdout",
     "output_type": "stream",
     "text": [
      "Enter the first string:\tabc\n",
      "Enter the second string:\txyz\n",
      "The output is xyc abz\n"
     ]
    }
   ],
   "source": [
    "#to convert abc and xyz to xyc and abz\n",
    "a=input(\"Enter the first string:\\t\")\n",
    "b=input(\"Enter the second string:\\t\")\n",
    "a_new=b[:2]+a[2:]\n",
    "b_new=a[:2]+b[2:]\n",
    "print(\"The output is\",a_new,b_new)"
   ]
  },
  {
   "cell_type": "code",
   "execution_count": null,
   "metadata": {},
   "outputs": [],
   "source": []
  }
 ],
 "metadata": {
  "kernelspec": {
   "display_name": "Python 3",
   "language": "python",
   "name": "python3"
  },
  "language_info": {
   "codemirror_mode": {
    "name": "ipython",
    "version": 3
   },
   "file_extension": ".py",
   "mimetype": "text/x-python",
   "name": "python",
   "nbconvert_exporter": "python",
   "pygments_lexer": "ipython3",
   "version": "3.8.3"
  }
 },
 "nbformat": 4,
 "nbformat_minor": 4
}
