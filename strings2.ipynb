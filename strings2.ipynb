{
 "cells": [
  {
   "cell_type": "code",
   "execution_count": 4,
   "metadata": {},
   "outputs": [
    {
     "name": "stdout",
     "output_type": "stream",
     "text": [
      "Enter the string:\tstr\n",
      "str\n",
      "The output is:\t str\n"
     ]
    }
   ],
   "source": [
    "#add ing at the end of string,if ing is already there add ly and if length is less than 3 leave it unchanged\n",
    "s=input(\"Enter the string:\\t\")\n",
    "if (len(s) >3):\n",
    "    if (s[-3:]==\"ing\"):\n",
    "        s+=\"ly\"\n",
    "    else:\n",
    "        s+=\"ing\"\n",
    "else:\n",
    "    print(s)\n",
    "print(\"The output is:\\t\",s)    "
   ]
  },
  {
   "cell_type": "code",
   "execution_count": 5,
   "metadata": {},
   "outputs": [
    {
     "name": "stdout",
     "output_type": "stream",
     "text": [
      "Enter the string:\tsting\n",
      "The output is:\t stingly\n"
     ]
    }
   ],
   "source": [
    "s=input(\"Enter the string:\\t\")\n",
    "if (len(s) >3):\n",
    "    if (s[-3:]==\"ing\"):\n",
    "        s+=\"ly\"\n",
    "    else:\n",
    "        s+=\"ing\"\n",
    "else:\n",
    "    print(s)\n",
    "print(\"The output is:\\t\",s) "
   ]
  },
  {
   "cell_type": "code",
   "execution_count": 6,
   "metadata": {},
   "outputs": [
    {
     "name": "stdout",
     "output_type": "stream",
     "text": [
      "Enter the string:\tabcd\n",
      "The output is:\t abcding\n"
     ]
    }
   ],
   "source": [
    "s=input(\"Enter the string:\\t\")\n",
    "if (len(s) >3):\n",
    "    if (s[-3:]==\"ing\"):\n",
    "        s+=\"ly\"\n",
    "    else:\n",
    "        s+=\"ing\"\n",
    "else:\n",
    "    print(s)\n",
    "print(\"The output is:\\t\",s) "
   ]
  },
  {
   "cell_type": "code",
   "execution_count": 8,
   "metadata": {},
   "outputs": [
    {
     "name": "stdout",
     "output_type": "stream",
     "text": [
      "Enter the string:\tswachi\n",
      "iwachs\n"
     ]
    }
   ],
   "source": [
    "#to change abcd to dbca\n",
    "s=input(\"Enter the string:\\t\")\n",
    "s=s[-1:]+s[1:-1]+s[:1]\n",
    "print(s)"
   ]
  },
  {
   "cell_type": "code",
   "execution_count": 12,
   "metadata": {},
   "outputs": [
    {
     "name": "stdout",
     "output_type": "stream",
     "text": [
      "Enter the sting:\tswachi\n",
      "sah\n"
     ]
    }
   ],
   "source": [
    "#to remove odd indexes character\n",
    "s=input(\"Enter the sting:\\t\")\n",
    "res=\"\"\n",
    "for i in range(len(s)):\n",
    "    if i%2==0:\n",
    "        res=res+s[i]\n",
    "print(res)        "
   ]
  },
  {
   "cell_type": "code",
   "execution_count": null,
   "metadata": {},
   "outputs": [],
   "source": []
  }
 ],
 "metadata": {
  "kernelspec": {
   "display_name": "Python 3",
   "language": "python",
   "name": "python3"
  },
  "language_info": {
   "codemirror_mode": {
    "name": "ipython",
    "version": 3
   },
   "file_extension": ".py",
   "mimetype": "text/x-python",
   "name": "python",
   "nbconvert_exporter": "python",
   "pygments_lexer": "ipython3",
   "version": "3.8.3"
  }
 },
 "nbformat": 4,
 "nbformat_minor": 4
}
