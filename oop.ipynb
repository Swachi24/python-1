{
 "cells": [
  {
   "cell_type": "code",
   "execution_count": 10,
   "metadata": {},
   "outputs": [
    {
     "name": "stdout",
     "output_type": "stream",
     "text": [
      "Enter the length:\t40\n",
      "Enter the breadth:\t50\n",
      "Area of rectangle: 2000\n",
      "\n"
     ]
    }
   ],
   "source": [
    "#to find te area of rectangle using class\n",
    "class Rectangle():\n",
    "    def __init__(self,length,breadth):\n",
    "        self.length=length\n",
    "        self.breadth=breadth\n",
    "    def area(self):\n",
    "        return self.length*self.breadth\n",
    "a=int(input(\"Enter the length:\\t\"))\n",
    "b=int(input(\"Enter the breadth:\\t\"))\n",
    "obj=Rectangle(a,b)\n",
    "obj.area()\n",
    "print(\"Area of rectangle:\",obj.area())\n",
    "print()\n",
    "        "
   ]
  },
  {
   "cell_type": "code",
   "execution_count": 12,
   "metadata": {},
   "outputs": [
    {
     "name": "stdout",
     "output_type": "stream",
     "text": [
      "Enter the radius:\t4\n",
      "Perimter is: 25.132741228718345\n",
      "Area is: 50.26548245743669\n"
     ]
    }
   ],
   "source": [
    "#to find area and perimeter of the circle\n",
    "import math\n",
    "class Circle():\n",
    "    def __init__(self,radius):\n",
    "        self.radius=radius\n",
    "    def perimeter(self):\n",
    "        return 2*math.pi*self.radius\n",
    "    def area(self):\n",
    "        return math.pi*(self.radius**2)\n",
    "radius=int(input(\"Enter the radius:\\t\"))\n",
    "obj=Circle(radius)\n",
    "print(\"Perimter is:\",obj.perimeter())\n",
    "print(\"Area is:\",obj.area())"
   ]
  },
  {
   "cell_type": "code",
   "execution_count": 1,
   "metadata": {},
   "outputs": [
    {
     "name": "stdout",
     "output_type": "stream",
     "text": [
      "Enter the number:\t5\n",
      "Enter the number:\t6\n",
      "1.Addition\n",
      "2.Subtraction\n",
      "3.Multiplication\n",
      "4.Division\n",
      "Enter the choice:5\n",
      "Exit\n",
      "1.Addition\n",
      "2.Subtraction\n",
      "3.Multiplication\n",
      "4.Division\n",
      "Enter the choice:6\n",
      "Invalid\n"
     ]
    }
   ],
   "source": [
    "#to perform calculations\n",
    "class Cal():\n",
    "    def __init__(self,a,b):\n",
    "        self.a=a\n",
    "        self.b=b\n",
    "    def add(self):\n",
    "        return self.a+self.b\n",
    "    def sub(self):\n",
    "        return self.a-self.b\n",
    "    def mul(self):\n",
    "        return self.a*self.b\n",
    "    def div(self):\n",
    "        return self.a//self.b\n",
    "a=int(input(\"Enter the number:\\t\"))\n",
    "b=int(input(\"Enter the number:\\t\"))\n",
    "obj=Cal(a,b)\n",
    "choice=1\n",
    "while choice!=0:\n",
    "    print(\"1.Addition\")\n",
    "    print(\"2.Subtraction\")\n",
    "    print(\"3.Multiplication\")\n",
    "    print(\"4.Division\")\n",
    "    choice=int(input(\"Enter the choice:\"))\n",
    "    if choice==1:\n",
    "        print(\"Addition:\\t\",obj.add())\n",
    "    elif choice==2:\n",
    "        print(\"Substraction:\\t\",obj.sub())\n",
    "    elif choice==3:\n",
    "        print(\"Multiplication:\\t\",obj.mul())\n",
    "    elif choice==4:\n",
    "        print(\"Division:\\t\",obj.div())\n",
    "    elif choice==5:\n",
    "        print(\"Exit\")\n",
    "    else:   \n",
    "        print(\"Invalid\")\n",
    "        break"
   ]
  },
  {
   "cell_type": "code",
   "execution_count": 2,
   "metadata": {},
   "outputs": [
    {
     "name": "stdout",
     "output_type": "stream",
     "text": [
      "Enter the string:\tSwachi\n",
      "The string is:\t\n",
      "Swachi\n"
     ]
    }
   ],
   "source": [
    "class Print():\n",
    "    def __init__(self):\n",
    "        self.string=\"\"\n",
    "    def get (self):\n",
    "        self.string=input(\"Enter the string:\\t\")\n",
    "    def put(self):\n",
    "        print(\"The string is:\\t\")\n",
    "        print(self.string)\n",
    "obj=Print() \n",
    "obj.get()\n",
    "obj.put()"
   ]
  },
  {
   "cell_type": "code",
   "execution_count": null,
   "metadata": {},
   "outputs": [],
   "source": []
  }
 ],
 "metadata": {
  "kernelspec": {
   "display_name": "Python 3",
   "language": "python",
   "name": "python3"
  },
  "language_info": {
   "codemirror_mode": {
    "name": "ipython",
    "version": 3
   },
   "file_extension": ".py",
   "mimetype": "text/x-python",
   "name": "python",
   "nbconvert_exporter": "python",
   "pygments_lexer": "ipython3",
   "version": "3.8.3"
  }
 },
 "nbformat": 4,
 "nbformat_minor": 4
}
