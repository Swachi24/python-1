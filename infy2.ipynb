{
 "cells": [
  {
   "cell_type": "code",
   "execution_count": 3,
   "metadata": {},
   "outputs": [
    {
     "name": "stdout",
     "output_type": "stream",
     "text": [
      "{{[]}}}\n",
      "7\n"
     ]
    },
    {
     "ename": "IndexError",
     "evalue": "pop from empty list",
     "output_type": "error",
     "traceback": [
      "\u001b[1;31m---------------------------------------------------------------------------\u001b[0m",
      "\u001b[1;31mIndexError\u001b[0m                                Traceback (most recent call last)",
      "\u001b[1;32m<ipython-input-3-551b1e4efcfd>\u001b[0m in \u001b[0;36m<module>\u001b[1;34m\u001b[0m\n\u001b[0;32m     11\u001b[0m         \u001b[0mprint\u001b[0m\u001b[1;33m(\u001b[0m\u001b[0mcounter\u001b[0m\u001b[1;33m+\u001b[0m\u001b[1;36m1\u001b[0m\u001b[1;33m)\u001b[0m\u001b[1;33m\u001b[0m\u001b[1;33m\u001b[0m\u001b[0m\n\u001b[0;32m     12\u001b[0m         \u001b[0mexit\u001b[0m\u001b[1;33m(\u001b[0m\u001b[1;33m)\u001b[0m\u001b[1;33m\u001b[0m\u001b[1;33m\u001b[0m\u001b[0m\n\u001b[1;32m---> 13\u001b[1;33m     \u001b[0mb\u001b[0m\u001b[1;33m=\u001b[0m\u001b[0mstack\u001b[0m\u001b[1;33m.\u001b[0m\u001b[0mpop\u001b[0m\u001b[1;33m(\u001b[0m\u001b[1;33m)\u001b[0m\u001b[1;33m\u001b[0m\u001b[1;33m\u001b[0m\u001b[0m\n\u001b[0m\u001b[0;32m     14\u001b[0m     \u001b[1;32mif\u001b[0m\u001b[1;33m(\u001b[0m\u001b[0ma\u001b[0m\u001b[1;33m==\u001b[0m\u001b[1;34m']'\u001b[0m \u001b[1;32mand\u001b[0m \u001b[0mb\u001b[0m\u001b[1;33m==\u001b[0m\u001b[1;34m'['\u001b[0m\u001b[1;33m)\u001b[0m\u001b[1;33m:\u001b[0m\u001b[1;33m\u001b[0m\u001b[1;33m\u001b[0m\u001b[0m\n\u001b[0;32m     15\u001b[0m         \u001b[0mcounter\u001b[0m\u001b[1;33m+=\u001b[0m\u001b[1;36m1\u001b[0m\u001b[1;33m\u001b[0m\u001b[1;33m\u001b[0m\u001b[0m\n",
      "\u001b[1;31mIndexError\u001b[0m: pop from empty list"
     ]
    }
   ],
   "source": [
    "#bracket problem\n",
    "string=input()\n",
    "stack=[]\n",
    "counter=0\n",
    "for a in string:\n",
    "    if(a==\"[\" or a==\"{\" or a==\"(\"):\n",
    "        stack.append(a)\n",
    "        counter+=1\n",
    "        continue\n",
    "    if(len(stack)==0):\n",
    "        print(counter+1)\n",
    "        exit()\n",
    "    b=stack.pop()\n",
    "    if(a==']' and b=='['):\n",
    "        counter+=1\n",
    "    elif(a=='}' and b=='{'):\n",
    "        counter+=1\n",
    "    elif(a==')' and b=='('):\n",
    "        counter+=1   \n",
    "if(len(stack)==0):\n",
    "    print(0)\n",
    "else:\n",
    "    print(counter+1)"
   ]
  },
  {
   "cell_type": "code",
   "execution_count": 9,
   "metadata": {},
   "outputs": [
    {
     "name": "stdout",
     "output_type": "stream",
     "text": [
      "Anchal:23581,Aman:57568\n",
      "aX\n"
     ]
    }
   ],
   "source": [
    "#password generator\n",
    "string_final=\"\"\n",
    "string_input=input()\n",
    "a=string_input.split(\",\")\n",
    "for i in a:\n",
    "    x,y=i.split(\":\")\n",
    "    length=len(x)\n",
    "    \n",
    "    maximum=0\n",
    "    for j in y:\n",
    "        if int(j)<=length and int(j)>=int(maximum):\n",
    "            maximum=j\n",
    "    if maximum==0:\n",
    "        string_final+=\"X\"\n",
    "    else:\n",
    "        string_final+=x[int(maximum)-1]\n",
    "print(string_final)    \n",
    "        "
   ]
  },
  {
   "cell_type": "code",
   "execution_count": 2,
   "metadata": {},
   "outputs": [
    {
     "name": "stdout",
     "output_type": "stream",
     "text": [
      "abcd:1234,bcdgfhf:127836\n",
      "cdab\n",
      "cdgfhfb"
     ]
    }
   ],
   "source": [
    "#digits and alpha\n",
    "string=input().split(\",\")\n",
    "for i in string:\n",
    "    string,num=i.split(\":\")\n",
    "    length=len(string)\n",
    "    \n",
    "    sum=0\n",
    "    for i in num:\n",
    "        sum+=(int(i)**2)\n",
    "    if(sum%2==0):\n",
    "        s=string[length-2:length]\n",
    "        print(s+string[0:length-2],end=\"\")\n",
    "        print()\n",
    "    else:\n",
    "        s=string[0]\n",
    "        print(string[1:length]+s,end=\"\")\n",
    "        "
   ]
  },
  {
   "cell_type": "code",
   "execution_count": null,
   "metadata": {},
   "outputs": [],
   "source": []
  }
 ],
 "metadata": {
  "kernelspec": {
   "display_name": "Python 3",
   "language": "python",
   "name": "python3"
  },
  "language_info": {
   "codemirror_mode": {
    "name": "ipython",
    "version": 3
   },
   "file_extension": ".py",
   "mimetype": "text/x-python",
   "name": "python",
   "nbconvert_exporter": "python",
   "pygments_lexer": "ipython3",
   "version": "3.8.3"
  }
 },
 "nbformat": 4,
 "nbformat_minor": 4
}
