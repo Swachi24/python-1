{
 "cells": [
  {
   "cell_type": "markdown",
   "metadata": {},
   "source": [
    "functions"
   ]
  },
  {
   "cell_type": "code",
   "execution_count": 1,
   "metadata": {},
   "outputs": [
    {
     "name": "stdout",
     "output_type": "stream",
     "text": [
      "80\n"
     ]
    }
   ],
   "source": [
    "#to find the max of three numbers\n",
    "def max(x,y,z):\n",
    "    if x>y and x> z:\n",
    "        largest= x\n",
    "    elif y>x and x>z:\n",
    "        largest=y\n",
    "    else:\n",
    "        largest=z\n",
    "    return largest\n",
    "print(max(60,80,30))"
   ]
  },
  {
   "cell_type": "code",
   "execution_count": 5,
   "metadata": {},
   "outputs": [
    {
     "name": "stdout",
     "output_type": "stream",
     "text": [
      "18\n"
     ]
    }
   ],
   "source": [
    "#to find sum of numbers in a list\n",
    "def sum(numbers):\n",
    "    sum=0\n",
    "    for i in numbers:\n",
    "        sum+=i\n",
    "    return sum\n",
    "print(sum((8,4,2,0,4)))"
   ]
  },
  {
   "cell_type": "code",
   "execution_count": 7,
   "metadata": {},
   "outputs": [
    {
     "name": "stdout",
     "output_type": "stream",
     "text": [
      "-480\n"
     ]
    }
   ],
   "source": [
    "#to multiply all numbers in a list\n",
    "def multiply(numbers):\n",
    "    total=1\n",
    "    for i in numbers:\n",
    "        total*=i\n",
    "    return total\n",
    "print(multiply((8,2,5,-6)))"
   ]
  },
  {
   "cell_type": "code",
   "execution_count": 11,
   "metadata": {},
   "outputs": [
    {
     "name": "stdout",
     "output_type": "stream",
     "text": [
      "ihcawS\n"
     ]
    }
   ],
   "source": [
    "#to find reverse of a string\n",
    "def reverse(str):\n",
    "    str=str[::-1]\n",
    "    return str\n",
    "s=\"Swachi\"\n",
    "print(reverse(s))"
   ]
  },
  {
   "cell_type": "code",
   "execution_count": 23,
   "metadata": {},
   "outputs": [
    {
     "name": "stdout",
     "output_type": "stream",
     "text": [
      "Swachi Sweta\n",
      "atewS ihcawS\n"
     ]
    }
   ],
   "source": [
    "def reverse_string(str):\n",
    "    s=\"\"\n",
    "    count=len(str)\n",
    "    while count > 0:\n",
    "        s+=str[count-1]\n",
    "        count=count-1\n",
    "    return s\n",
    "s=\"Swachi Sweta\"\n",
    "print(s)\n",
    "print(reverse_string(s))"
   ]
  },
  {
   "cell_type": "code",
   "execution_count": 25,
   "metadata": {},
   "outputs": [
    {
     "name": "stdout",
     "output_type": "stream",
     "text": [
      "Enter the number:\t4\n",
      "24\n"
     ]
    }
   ],
   "source": [
    "#calculate the factorial of a number\n",
    "def fact(n):\n",
    "    if n==1:\n",
    "        return 1\n",
    "    else:\n",
    "        return n * fact(n-1)\n",
    "#print(fact(4))  \n",
    "s=int(input(\"Enter the number:\\t\"))\n",
    "print(fact(s))\n"
   ]
  },
  {
   "cell_type": "code",
   "execution_count": 3,
   "metadata": {},
   "outputs": [
    {
     "name": "stdout",
     "output_type": "stream",
     "text": [
      "Enter the value40\n",
      "Enter the value60\n",
      "Enter the value55\n",
      "55 is in range:\n"
     ]
    }
   ],
   "source": [
    "#calculate whether the number is in range\n",
    "def test(n):\n",
    "    if n in range(lower,upper):\n",
    "        print (\"%s is in range:\"%str(n))\n",
    "    else:\n",
    "        print(\"Not in range:\")\n",
    "lower=int(input(\"Enter the value\"))\n",
    "upper=int(input(\"Enter the value\"))\n",
    "n=int(input(\"Enter the value\"))\n",
    "test(n)   "
   ]
  },
  {
   "cell_type": "code",
   "execution_count": 1,
   "metadata": {},
   "outputs": [
    {
     "name": "stdout",
     "output_type": "stream",
     "text": [
      "Enter the value:\tSwachi Sweta\n",
      "lowercase is=9 Uppercase is=2\n"
     ]
    }
   ],
   "source": [
    "#to coun upper and lower case letters \n",
    "def uplo(str):\n",
    "    upper=0\n",
    "    lower=0\n",
    "    \n",
    "    for i in str:\n",
    "        if(i.isupper()):\n",
    "            upper+=1\n",
    "        elif(i.islower()):  \n",
    "            lower+=1\n",
    "    print(\"lowercase is=%s\"%lower,\"Uppercase is=%s\"%upper) \n",
    "string=input(\"Enter the value:\\t\")\n",
    "uplo(string)"
   ]
  },
  {
   "cell_type": "code",
   "execution_count": 4,
   "metadata": {},
   "outputs": [
    {
     "name": "stdout",
     "output_type": "stream",
     "text": [
      "Enter the number:5\n",
      "True\n"
     ]
    }
   ],
   "source": [
    "#check the prime number\n",
    "def prime(n):\n",
    "    if n==1:\n",
    "        return False\n",
    "    elif n==2:\n",
    "        return True\n",
    "    else:\n",
    "        for i in range (2,n):\n",
    "            if(n%2==0):\n",
    "                return False\n",
    "            return True \n",
    "num=int(input(\"Enter the number:\"))\n",
    "print(prime(num))"
   ]
  },
  {
   "cell_type": "code",
   "execution_count": 6,
   "metadata": {},
   "outputs": [
    {
     "name": "stdout",
     "output_type": "stream",
     "text": [
      "[2, 4, 6, 8]\n"
     ]
    }
   ],
   "source": [
    "#to check the even number\n",
    "def even(n):\n",
    "    l=[]\n",
    "    for i in n:\n",
    "        if i%2==0:\n",
    "            l.append(i)\n",
    "    return l\n",
    "print(even([1,2,3,4,5,6,7,8,9]))"
   ]
  },
  {
   "cell_type": "code",
   "execution_count": null,
   "metadata": {},
   "outputs": [],
   "source": []
  }
 ],
 "metadata": {
  "kernelspec": {
   "display_name": "Python 3",
   "language": "python",
   "name": "python3"
  },
  "language_info": {
   "codemirror_mode": {
    "name": "ipython",
    "version": 3
   },
   "file_extension": ".py",
   "mimetype": "text/x-python",
   "name": "python",
   "nbconvert_exporter": "python",
   "pygments_lexer": "ipython3",
   "version": "3.8.3"
  }
 },
 "nbformat": 4,
 "nbformat_minor": 4
}
