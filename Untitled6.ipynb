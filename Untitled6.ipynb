{
 "cells": [
  {
   "cell_type": "code",
   "execution_count": 5,
   "metadata": {},
   "outputs": [
    {
     "name": "stdout",
     "output_type": "stream",
     "text": [
      "1505,1540,1575,1610,1645,1680,1715,1750,1785,1820,1855,1890,1925,1960,1995,2030,2065,2100,2135,2170,2205,2240,2275,2310,2345,2380,2415,2450,2485,2520,2555,2590,2625,2660,2695,"
     ]
    }
   ],
   "source": [
    "#to find numbers between 1500 and 2700\n",
    "for i in range(1500,2701):\n",
    "    if (i%7==0) and (i%5==0):\n",
    "        print(i,end=\",\")\n",
    "    else:pass    "
   ]
  },
  {
   "cell_type": "code",
   "execution_count": 6,
   "metadata": {},
   "outputs": [
    {
     "name": "stdout",
     "output_type": "stream",
     "text": [
      "Enter the number to be guessed5\n",
      "less and try again\n",
      "Enter the number to be guessed6\n",
      "less and try again\n",
      "Enter the number to be guessed2\n",
      "less and try again\n",
      "Enter the number to be guessed9\n",
      "less and try again\n",
      "Enter the number to be guessed19\n",
      "you guess it\n"
     ]
    }
   ],
   "source": [
    "#to guess a number\n",
    "import random\n",
    "num=random.randrange(1,20)\n",
    "guess=int(input(\"Enter the number to be guessed\"))\n",
    "while guess!=num:\n",
    "    if guess<num:\n",
    "        print(\"less and try again\")\n",
    "        guess=int(input(\"Enter the number to be guessed\"))\n",
    "    elif guess<num:\n",
    "        print(\"more and try again\")\n",
    "        guess=int(input(\"Enter the number to be guessed\"))\n",
    "    else:\n",
    "        print(\"you guess it\")\n",
    "        break\n"
   ]
  },
  {
   "cell_type": "code",
   "execution_count": 9,
   "metadata": {},
   "outputs": [
    {
     "name": "stdout",
     "output_type": "stream",
     "text": [
      "01245"
     ]
    }
   ],
   "source": [
    "#prints number from 0 to 6 except 3 and 6\n",
    "for i in range(0,6):\n",
    "    if (i==3) or (i==6):\n",
    "        continue\n",
    "    print (i,end=\"\")\n",
    "   "
   ]
  },
  {
   "cell_type": "code",
   "execution_count": 15,
   "metadata": {},
   "outputs": [
    {
     "name": "stdout",
     "output_type": "stream",
     "text": [
      "1,1,2,3,5,8,13,21,34,"
     ]
    }
   ],
   "source": [
    "#to get fibonacci between 0 to 50\n",
    "x,y=0,1\n",
    "while y<50:\n",
    "        print(y,end=\",\")\n",
    "        x,y=y,x+y\n",
    "      "
   ]
  },
  {
   "cell_type": "code",
   "execution_count": 26,
   "metadata": {},
   "outputs": [
    {
     "name": "stdout",
     "output_type": "stream",
     "text": [
      "FizzBuzz\n",
      "1\n",
      "2\n",
      "Fizz\n",
      "4\n",
      "Buzz\n",
      "Fizz\n",
      "7\n",
      "8\n",
      "Fizz\n",
      "Buzz\n",
      "11\n",
      "Fizz\n",
      "13\n",
      "14\n",
      "FizzBuzz\n",
      "16\n",
      "17\n",
      "Fizz\n",
      "19\n",
      "Buzz\n",
      "Fizz\n",
      "22\n",
      "23\n",
      "Fizz\n",
      "Buzz\n",
      "26\n",
      "Fizz\n",
      "28\n",
      "29\n",
      "FizzBuzz\n",
      "31\n",
      "32\n",
      "Fizz\n",
      "34\n",
      "Buzz\n",
      "Fizz\n",
      "37\n",
      "38\n",
      "Fizz\n",
      "Buzz\n",
      "41\n",
      "Fizz\n",
      "43\n",
      "44\n",
      "FizzBuzz\n",
      "46\n",
      "47\n",
      "Fizz\n",
      "49\n",
      "Buzz\n"
     ]
    }
   ],
   "source": [
    "#to iterate\n",
    "for i in range(51):\n",
    "    if i%3==0 and i%5==0:\n",
    "        print(\"FizzBuzz\")\n",
    "        continue\n",
    "    elif i%3==0:\n",
    "        print(\"Fizz\")\n",
    "        continue\n",
    "    elif i%5==0:\n",
    "        print(\"Buzz\")\n",
    "        continue \n",
    "    else:            \n",
    "        print(i)            "
   ]
  },
  {
   "cell_type": "code",
   "execution_count": null,
   "metadata": {},
   "outputs": [],
   "source": []
  },
  {
   "cell_type": "code",
   "execution_count": null,
   "metadata": {},
   "outputs": [],
   "source": []
  }
 ],
 "metadata": {
  "kernelspec": {
   "display_name": "Python 3",
   "language": "python",
   "name": "python3"
  },
  "language_info": {
   "codemirror_mode": {
    "name": "ipython",
    "version": 3
   },
   "file_extension": ".py",
   "mimetype": "text/x-python",
   "name": "python",
   "nbconvert_exporter": "python",
   "pygments_lexer": "ipython3",
   "version": "3.8.3"
  }
 },
 "nbformat": 4,
 "nbformat_minor": 4
}
