{
 "cells": [
  {
   "cell_type": "code",
   "execution_count": 5,
   "metadata": {},
   "outputs": [
    {
     "name": "stdout",
     "output_type": "stream",
     "text": [
      "Enter the number123\n",
      "The sum of cube is: 36\n"
     ]
    }
   ],
   "source": [
    "#to find the sum of cube of each digit\n",
    "n=int(input(\"Enter the number\"))\n",
    "sum=0\n",
    "for i in range(n+1):\n",
    "    \n",
    "    digit=n%10\n",
    "    sum=sum+digit**3\n",
    "    n=n//10\n",
    "print(\"The sum of cube is:\",sum)"
   ]
  },
  {
   "cell_type": "code",
   "execution_count": 14,
   "metadata": {},
   "outputs": [
    {
     "name": "stdout",
     "output_type": "stream",
     "text": [
      "Enter the lower number:\t100\n",
      "Enter the upper number:\t500\n",
      "153 This is armstrong number\n",
      "370 This is armstrong number\n",
      "371 This is armstrong number\n",
      "407 This is armstrong number\n"
     ]
    }
   ],
   "source": [
    "#to find armstrong number in a given interval\n",
    "low=int(input(\"Enter the lower number:\\t\"))\n",
    "upp=int(input(\"Enter the upper number:\\t\"))\n",
    "\n",
    "\n",
    "for num in range(low,upp+1):\n",
    "    sum=0\n",
    "    temp=num\n",
    "    while temp>0:\n",
    "        digit=temp%10\n",
    "        sum=sum+digit**3\n",
    "        temp=temp//10\n",
    "    if sum==num:\n",
    "        print( num, \"This is armstrong number\")\n",
    "    \n"
   ]
  },
  {
   "cell_type": "code",
   "execution_count": 17,
   "metadata": {},
   "outputs": [
    {
     "name": "stdout",
     "output_type": "stream",
     "text": [
      "enter the number:\t10\n",
      "The sum is: 55\n"
     ]
    }
   ],
   "source": [
    "#to find sum of natural numbers\n",
    "num=int(input(\"enter the number:\\t\"))\n",
    "sum=0\n",
    "for i in range(num+1):\n",
    "    sum=sum+i\n",
    "print(\"The sum is:\",sum)    "
   ]
  },
  {
   "cell_type": "code",
   "execution_count": 21,
   "metadata": {},
   "outputs": [
    {
     "name": "stdout",
     "output_type": "stream",
     "text": [
      "Enter the terms:\t5\n",
      "The result of powers of 2 in 0 is: 1\n",
      "The result of powers of 2 in 1 is: 2\n",
      "The result of powers of 2 in 2 is: 4\n",
      "The result of powers of 2 in 3 is: 8\n",
      "The result of powers of 2 in 4 is: 16\n"
     ]
    }
   ],
   "source": [
    "# to display powers of 2 using anonymous function\n",
    "num=int(input(\"Enter the terms:\\t\"))\n",
    "pow=list(map(lambda x:2**x,range(num)))\n",
    "for i in range(num):\n",
    "    print(\"The result of powers of 2 in\",i, \"is:\",pow[i])"
   ]
  },
  {
   "cell_type": "code",
   "execution_count": 27,
   "metadata": {},
   "outputs": [
    {
     "name": "stdout",
     "output_type": "stream",
     "text": [
      "Enter the num1:\t56\n",
      "Enter the num2:\t8\n",
      "56 is divisible by 8\n"
     ]
    }
   ],
   "source": [
    "#to find numbers divisible by another number\n",
    "num1=int(input(\"Enter the num1:\\t\"))\n",
    "num2=int(input(\"Enter the num2:\\t\"))\n",
    "div= num1%num2\n",
    "if div==0:\n",
    "    print(num1,\"is divisible by\",num2)\n",
    "else:\n",
    "    print(\"Not divisible\")"
   ]
  },
  {
   "cell_type": "code",
   "execution_count": 30,
   "metadata": {},
   "outputs": [
    {
     "name": "stdout",
     "output_type": "stream",
     "text": [
      "Enter the number:\t15\n",
      "The conversion is 0b1111\n"
     ]
    }
   ],
   "source": [
    "#to convert decimal to binary\n",
    "num=int(input(\"Enter the number:\\t\"))\n",
    "print(\"The conversion is\",bin(num))\n",
    "#print(num,\":converted decimal to binary\")"
   ]
  },
  {
   "cell_type": "code",
   "execution_count": 12,
   "metadata": {},
   "outputs": [
    {
     "name": "stdout",
     "output_type": "stream",
     "text": [
      "Enter the number:\t101\n",
      "The decimal number is: 5\n"
     ]
    }
   ],
   "source": [
    "#to convert binary to decimal\n",
    "from math import pow\n",
    "num=int(input(\"Enter the number:\\t\"))\n",
    "sum=0\n",
    "i=0\n",
    "#for i in range(num+1):\n",
    "while num>0:\n",
    "    \n",
    "    digit=num%10\n",
    "    sum= sum + digit * (pow(2,i))\n",
    "    num=num//10\n",
    "    i+=1\n",
    "print(\"The decimal number is:\",int(sum))    \n",
    "    "
   ]
  },
  {
   "cell_type": "code",
   "execution_count": null,
   "metadata": {},
   "outputs": [],
   "source": []
  }
 ],
 "metadata": {
  "kernelspec": {
   "display_name": "Python 3",
   "language": "python",
   "name": "python3"
  },
  "language_info": {
   "codemirror_mode": {
    "name": "ipython",
    "version": 3
   },
   "file_extension": ".py",
   "mimetype": "text/x-python",
   "name": "python",
   "nbconvert_exporter": "python",
   "pygments_lexer": "ipython3",
   "version": "3.8.3"
  }
 },
 "nbformat": 4,
 "nbformat_minor": 4
}
