{
 "cells": [
  {
   "cell_type": "markdown",
   "metadata": {},
   "source": [
    "ways to remove ith character from string in python"
   ]
  },
  {
   "cell_type": "code",
   "execution_count": 8,
   "metadata": {},
   "outputs": [
    {
     "name": "stdout",
     "output_type": "stream",
     "text": [
      "Swachi Sweta\n",
      "Swchi Sweta\n"
     ]
    }
   ],
   "source": [
    "#naive method\n",
    "str=\"Swachi Sweta\"\n",
    "#tr=input(\"Enter the string\")\n",
    "print(str)\n",
    "new=\"\"\n",
    "#um=int(input(\"Enter the index\")\n",
    "for i in range (len(str)):\n",
    "    if i!=2:\n",
    "        new=new+str[i]\n",
    "print(new)"
   ]
  },
  {
   "cell_type": "code",
   "execution_count": 5,
   "metadata": {},
   "outputs": [
    {
     "name": "stdout",
     "output_type": "stream",
     "text": [
      "Enter the stringswachi sweta\n",
      "Enter the index4\n",
      "swachi sweta\n",
      "swaci sweta\n"
     ]
    }
   ],
   "source": [
    "str=input(\"Enter the string\")\n",
    "num=int(input(\"Enter the index\"))\n",
    "print(str)\n",
    "new=\"\"\n",
    "for i in range(len(str)):\n",
    "    if i!=num:\n",
    "        new=new+str[i]\n",
    "print(new)        "
   ]
  },
  {
   "cell_type": "code",
   "execution_count": 6,
   "metadata": {},
   "outputs": [
    {
     "name": "stdout",
     "output_type": "stream",
     "text": [
      "Enter the character:A\n",
      "65\n"
     ]
    }
   ],
   "source": [
    "#to find ASCII value\n",
    "ch=input(\"Enter the character:\")\n",
    "print(ord(ch))"
   ]
  },
  {
   "cell_type": "code",
   "execution_count": 18,
   "metadata": {},
   "outputs": [
    {
     "name": "stdout",
     "output_type": "stream",
     "text": [
      "Enter the string:swachi\n",
      "s 115\n",
      "w 119\n",
      "a 97\n",
      "c 99\n",
      "h 104\n",
      "i 105\n"
     ]
    }
   ],
   "source": [
    "str=input(\"Enter the string:\")\n",
    "\n",
    "for i in range(len(str)):\n",
    "    print(str[i],ord(str[i]))\n",
    "    "
   ]
  },
  {
   "cell_type": "code",
   "execution_count": 19,
   "metadata": {},
   "outputs": [
    {
     "name": "stdout",
     "output_type": "stream",
     "text": [
      "Enter the string:swachi\n",
      "The value of s=115\n",
      "The value of w=119\n",
      "The value of a=97\n",
      "The value of c=99\n",
      "The value of h=104\n",
      "The value of i=105\n"
     ]
    }
   ],
   "source": [
    "str=input(\"Enter the string:\")\n",
    "\n",
    "for i in range(len(str)):\n",
    "    print(\"The value of %c=%d\"%(str[i],ord(str[i])))\n",
    "         \n",
    "    "
   ]
  },
  {
   "cell_type": "code",
   "execution_count": 21,
   "metadata": {},
   "outputs": [
    {
     "name": "stdout",
     "output_type": "stream",
     "text": [
      "Enter the string 1:swachi\n",
      "Enter the string 2:sweta\n",
      "swachi sweta\n"
     ]
    }
   ],
   "source": [
    "#concatenate\n",
    "str1=input(\"Enter the string 1:\")\n",
    "str2=input(\"Enter the string 2:\")\n",
    "con=str1+\" \"+str2\n",
    "print(con)"
   ]
  },
  {
   "cell_type": "code",
   "execution_count": 23,
   "metadata": {},
   "outputs": [
    {
     "name": "stdout",
     "output_type": "stream",
     "text": [
      "Enter the string:swachi\n",
      "swachi\n"
     ]
    }
   ],
   "source": [
    "#t0 find the copy of a string\n",
    "str1=input(\"Enter the string:\")\n",
    "str2=\"\"\n",
    "for i in str1:\n",
    "    str2=str2+i\n",
    "print(str2)    "
   ]
  },
  {
   "cell_type": "code",
   "execution_count": 24,
   "metadata": {},
   "outputs": [
    {
     "name": "stdout",
     "output_type": "stream",
     "text": [
      "Enter the string:swachi\n",
      "swachi\n"
     ]
    }
   ],
   "source": [
    "str1=input(\"Enter the string:\")\n",
    "str2=\"\"\n",
    "for i in range(len(str1)):\n",
    "    str2=str2+str1[i]\n",
    "print(str2)    "
   ]
  },
  {
   "cell_type": "code",
   "execution_count": null,
   "metadata": {},
   "outputs": [],
   "source": []
  }
 ],
 "metadata": {
  "kernelspec": {
   "display_name": "Python 3",
   "language": "python",
   "name": "python3"
  },
  "language_info": {
   "codemirror_mode": {
    "name": "ipython",
    "version": 3
   },
   "file_extension": ".py",
   "mimetype": "text/x-python",
   "name": "python",
   "nbconvert_exporter": "python",
   "pygments_lexer": "ipython3",
   "version": "3.8.3"
  }
 },
 "nbformat": 4,
 "nbformat_minor": 4
}
